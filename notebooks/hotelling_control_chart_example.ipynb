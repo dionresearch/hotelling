{
 "cells": [
  {
   "cell_type": "markdown",
   "metadata": {},
   "source": [
    "# Hotelling control chart example"
   ]
  },
  {
   "cell_type": "code",
   "execution_count": null,
   "metadata": {},
   "outputs": [],
   "source": [
    "import pandas as pd\n",
    "from hotelling.plots import control_chart, control_stats, univariate_control_chart"
   ]
  },
  {
   "cell_type": "markdown",
   "metadata": {},
   "source": [
    "# Multivariate sample\n",
    "\n",
    "data from Nola D. Tracy, John C. Young & Robert L. Mason (1992) Multivariate Control Charts for individual Observations, Journal or Quality Technology, 24:2, 88-95, DOI:10.1080/00224065.1992.12015232"
   ]
  },
  {
   "cell_type": "code",
   "execution_count": null,
   "metadata": {},
   "outputs": [],
   "source": [
    "y = pd.DataFrame(\n",
    "    {\n",
    "        \"id\": [1, 2, 3, 4, 5, 6, 7, 8, 9, 10, 11, 12, 13, 14],\n",
    "        \"impurities\": [\n",
    "            14.92,\n",
    "            16.90,\n",
    "            17.38,\n",
    "            16.90,\n",
    "            16.92,\n",
    "            16.71,\n",
    "            17.07,\n",
    "            16.93,\n",
    "            16.71,\n",
    "            16.88,\n",
    "            16.73,\n",
    "            17.07,\n",
    "            17.60,\n",
    "            16.90,\n",
    "        ],\n",
    "        \"temp\": [\n",
    "            85.77,\n",
    "            83.77,\n",
    "            84.46,\n",
    "            86.27,\n",
    "            85.23,\n",
    "            83.81,\n",
    "            86.08,\n",
    "            85.85,\n",
    "            85.73,\n",
    "            86.27,\n",
    "            83.46,\n",
    "            85.81,\n",
    "            85.92,\n",
    "            84.23,\n",
    "        ],\n",
    "        \"concentration\": [\n",
    "            42.26,\n",
    "            43.44,\n",
    "            42.74,\n",
    "            43.60,\n",
    "            43.18,\n",
    "            43.72,\n",
    "            43.33,\n",
    "            43.41,\n",
    "            43.28,\n",
    "            42.59,\n",
    "            44.00,\n",
    "            42.78,\n",
    "            43.11,\n",
    "            43.48,\n",
    "        ],\n",
    "    }\n",
    ")\n",
    "\n",
    "y.set_index(\"id\", inplace=True)"
   ]
  },
  {
   "cell_type": "code",
   "execution_count": null,
   "metadata": {},
   "outputs": [],
   "source": [
    "help(control_chart)"
   ]
  },
  {
   "cell_type": "code",
   "execution_count": null,
   "metadata": {},
   "outputs": [],
   "source": [
    "ax = control_chart(y, alpha=0.01, legend_right=True);"
   ]
  },
  {
   "cell_type": "markdown",
   "metadata": {},
   "source": [
    "At alpha = 0.01, it appears sample 1 and sample 4 are out of control. We investigate the individual variables, to see if we can learn more about this."
   ]
  },
  {
   "cell_type": "code",
   "execution_count": null,
   "metadata": {},
   "outputs": [],
   "source": [
    "help(univariate_control_chart)"
   ]
  },
  {
   "cell_type": "code",
   "execution_count": null,
   "metadata": {},
   "outputs": [],
   "source": [
    "y"
   ]
  },
  {
   "cell_type": "code",
   "execution_count": null,
   "metadata": {},
   "outputs": [],
   "source": [
    "fig = univariate_control_chart(y, legend_right=True);"
   ]
  },
  {
   "cell_type": "markdown",
   "metadata": {},
   "source": [
    "From the above chart, it looks like impurities might be out of control for sample id 1. Since we see this out of control at both the Hotelling control chart and univariate control chart, we will remove the first observation."
   ]
  },
  {
   "cell_type": "code",
   "execution_count": null,
   "metadata": {},
   "outputs": [],
   "source": [
    "y_sub = y[1:]\n",
    "control_chart(y_sub, alpha=0.01, legend_right=True, width=12);"
   ]
  },
  {
   "cell_type": "markdown",
   "metadata": {},
   "source": [
    "This looks better, and now, sample 4 that was out of control is now in control (sample 3). We could save the mean vector and the covariance matrix for a phase 2 evaluation of new samples."
   ]
  },
  {
   "cell_type": "code",
   "execution_count": null,
   "metadata": {},
   "outputs": [],
   "source": [
    "x_bar, s = control_stats(y_sub)"
   ]
  },
  {
   "cell_type": "code",
   "execution_count": null,
   "metadata": {},
   "outputs": [],
   "source": [
    "x_bar"
   ]
  },
  {
   "cell_type": "code",
   "execution_count": null,
   "metadata": {},
   "outputs": [],
   "source": [
    "s"
   ]
  },
  {
   "cell_type": "markdown",
   "metadata": {},
   "source": [
    "Assuming we had a new sample set (here we will reuse y), we call control_chart with phase = 2:"
   ]
  },
  {
   "cell_type": "code",
   "execution_count": null,
   "metadata": {},
   "outputs": [],
   "source": [
    "control_chart(y, alpha=0.01, phase=2, x_bar=x_bar, s=s, legend_right=True);"
   ]
  },
  {
   "cell_type": "markdown",
   "metadata": {},
   "source": [
    "By calibrating our phase 1 to exclude our \"suspect\" sample, the control chart is now even more sensitive to out of control values."
   ]
  }
 ],
 "metadata": {
  "kernelspec": {
   "display_name": "Hotelling",
   "language": "python",
   "name": "hotelling"
  },
  "language_info": {
   "codemirror_mode": {
    "name": "ipython",
    "version": 3
   },
   "file_extension": ".py",
   "mimetype": "text/x-python",
   "name": "python",
   "nbconvert_exporter": "python",
   "pygments_lexer": "ipython3",
   "version": "3.8.8"
  }
 },
 "nbformat": 4,
 "nbformat_minor": 4
}
