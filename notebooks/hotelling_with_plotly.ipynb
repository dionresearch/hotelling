{
 "cells": [
  {
   "cell_type": "markdown",
   "metadata": {},
   "source": [
    "# Hotelling control charts with Plotly"
   ]
  },
  {
   "cell_type": "code",
   "execution_count": null,
   "metadata": {},
   "outputs": [],
   "source": [
    "import warnings\n",
    "import pandas as pd\n",
    "from hotelling.plots import control_chart, control_stats, univariate_control_chart\n",
    "# plotly needs to be installed for interactive mode to work"
   ]
  },
  {
   "cell_type": "markdown",
   "metadata": {},
   "source": [
    "# Multivariate sample\n",
    "\n",
    "data from Nola D. Tracy, John C. Young & Robert L. Mason (1992) Multivariate Control Charts for individual Observations, Journal or Quality Technology, 24:2, 88-95, DOI:10.1080/00224065.1992.12015232\n"
   ]
  },
  {
   "cell_type": "code",
   "execution_count": null,
   "metadata": {},
   "outputs": [],
   "source": [
    "y = pd.DataFrame(\n",
    "    {\n",
    "        \"id\": [1, 2, 3, 4, 5, 6, 7, 8, 9, 10, 11, 12, 13, 14],\n",
    "        \"impurities\": [\n",
    "            14.92,\n",
    "            16.90,\n",
    "            17.38,\n",
    "            16.90,\n",
    "            16.92,\n",
    "            16.71,\n",
    "            17.07,\n",
    "            16.93,\n",
    "            16.71,\n",
    "            16.88,\n",
    "            16.73,\n",
    "            17.07,\n",
    "            17.60,\n",
    "            16.90,\n",
    "        ],\n",
    "        \"temp\": [\n",
    "            85.77,\n",
    "            83.77,\n",
    "            84.46,\n",
    "            86.27,\n",
    "            85.23,\n",
    "            83.81,\n",
    "            86.08,\n",
    "            85.85,\n",
    "            85.73,\n",
    "            86.27,\n",
    "            83.46,\n",
    "            85.81,\n",
    "            85.92,\n",
    "            84.23,\n",
    "        ],\n",
    "        \"concentration\": [\n",
    "            42.26,\n",
    "            43.44,\n",
    "            42.74,\n",
    "            43.60,\n",
    "            43.18,\n",
    "            43.72,\n",
    "            43.33,\n",
    "            43.41,\n",
    "            43.28,\n",
    "            42.59,\n",
    "            44.00,\n",
    "            42.78,\n",
    "            43.11,\n",
    "            43.48,\n",
    "        ],\n",
    "    }\n",
    ")\n",
    "\n",
    "y.set_index(\"id\", inplace=True)"
   ]
  },
  {
   "cell_type": "code",
   "execution_count": null,
   "metadata": {},
   "outputs": [],
   "source": [
    "# ignore \"The is_frame_like function was deprecated in Matplotlib 3.1 and will be removed in 3.3.\"\n",
    "with warnings.catch_warnings():\n",
    "    warnings.simplefilter(\"ignore\")\n",
    "    ax = control_chart(y, alpha=0.01, legend_right=True, interactive=True);"
   ]
  },
  {
   "cell_type": "code",
   "execution_count": null,
   "metadata": {},
   "outputs": [],
   "source": [
    "fig = univariate_control_chart(y, legend_right=True);"
   ]
  },
  {
   "cell_type": "code",
   "execution_count": null,
   "metadata": {},
   "outputs": [],
   "source": [
    "with warnings.catch_warnings():\n",
    "    warnings.simplefilter(\"ignore\")\n",
    "    fig = univariate_control_chart(y, legend_right=True, interactive=True);"
   ]
  },
  {
   "cell_type": "code",
   "execution_count": null,
   "metadata": {},
   "outputs": [],
   "source": []
  }
 ],
 "metadata": {
  "kernelspec": {
   "display_name": "Hotelling",
   "language": "python",
   "name": "hotelling"
  },
  "language_info": {
   "codemirror_mode": {
    "name": "ipython",
    "version": 3
   },
   "file_extension": ".py",
   "mimetype": "text/x-python",
   "name": "python",
   "nbconvert_exporter": "python",
   "pygments_lexer": "ipython3",
   "version": "3.8.8"
  }
 },
 "nbformat": 4,
 "nbformat_minor": 2
}
